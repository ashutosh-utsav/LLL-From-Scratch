{
 "cells": [
  {
   "cell_type": "markdown",
   "id": "f73d6cbf",
   "metadata": {},
   "source": [
    "# Building a bigram and using 100YearOfSolitute as dataset "
   ]
  },
  {
   "cell_type": "code",
   "execution_count": 3,
   "id": "fb6dfef2",
   "metadata": {},
   "outputs": [
    {
     "name": "stdout",
     "output_type": "stream",
     "text": [
      "cpu\n"
     ]
    }
   ],
   "source": [
    "import torch\n",
    "import torch.nn as nn\n",
    "from torch.nn import functional as F\n",
    "device = 'cuda' if torch.cuda.is_available() else 'cpu'\n",
    "print(device)\n",
    "block_size = 8\n",
    "batch_size = 4\n",
    "max_iters = 1000\n",
    "# eval_interval = 2500\n",
    "learning_rate = 3e-4\n",
    "eval_iters = 250"
   ]
  },
  {
   "cell_type": "code",
   "execution_count": 4,
   "id": "44808758",
   "metadata": {},
   "outputs": [],
   "source": [
    "with open(\"100YearOfSolitude.txt\", 'r', encoding='utf-8') as f:\n",
    "    text = f.read()\n",
    "\n",
    "char = sorted(set(text))\n",
    "vocab_size = len(char)\n",
    "\n",
    "# print(char)\n",
    "# print(vocab_size)"
   ]
  },
  {
   "cell_type": "code",
   "execution_count": 5,
   "id": "e19e5ec4",
   "metadata": {},
   "outputs": [],
   "source": [
    "string_to_int = {ch:i for i, ch in enumerate(char)}\n",
    "int_to_string = {i:ch for i, ch in enumerate(char)}\n",
    "\n",
    "encode = lambda s:[string_to_int[c] for c in s]\n",
    "decode = lambda l:[int_to_string[i] for i in l]\n",
    "\n",
    "data = torch.tensor(encode(text), dtype=torch.long)\n",
    "\n",
    "# print(data[:50])"
   ]
  },
  {
   "cell_type": "code",
   "execution_count": 6,
   "id": "4aaf9d62",
   "metadata": {},
   "outputs": [
    {
     "name": "stdout",
     "output_type": "stream",
     "text": [
      "inputs:\n",
      "tensor([[59, 56, 76,  1, 56, 73, 56, 65],\n",
      "        [ 1, 71, 59, 69, 66, 72, 58, 59],\n",
      "        [59,  1, 52,  1, 55, 52, 65, 58],\n",
      "        [72, 54, 71, 70,  1, 57, 69, 66]])\n",
      "targets:\n",
      "tensor([[56, 76,  1, 56, 73, 56, 65,  1],\n",
      "        [71, 59, 69, 66, 72, 58, 59,  1],\n",
      "        [ 1, 52,  1, 55, 52, 65, 58, 56],\n",
      "        [54, 71, 70,  1, 57, 69, 66, 64]])\n"
     ]
    }
   ],
   "source": [
    "n = int(0.8*len(data))\n",
    "train_data = data[:n]\n",
    "val_data = data[n:]\n",
    "\n",
    "\n",
    "def get_batch(split):\n",
    "    data = train_data if split == 'train' else val_data\n",
    "    ix = torch.randint(len(data) - block_size, (batch_size,))\n",
    "    x = torch.stack([data[i:i+block_size] for i in ix])\n",
    "    y = torch.stack([data[i+1:i+block_size+1] for i in ix])\n",
    "    x, y = x.to(device), y.to(device)\n",
    "    return x, y\n",
    "\n",
    "x, y = get_batch('train')\n",
    "print('inputs:')\n",
    "# print(x.shape)\n",
    "print(x)\n",
    "print('targets:')\n",
    "print(y)"
   ]
  },
  {
   "cell_type": "code",
   "execution_count": 7,
   "id": "0829a183",
   "metadata": {},
   "outputs": [],
   "source": [
    "@torch.no_grad()\n",
    "def estimate_loss():\n",
    "    out = {}\n",
    "    model.eval()\n",
    "    for split in ['train', 'val']:\n",
    "        losses = torch.zeros(eval_iters)\n",
    "        for k in range(eval_iters):\n",
    "            X, Y = get_batch(split)\n",
    "            logits, loss = model(X, Y)\n",
    "            losses[k] = loss.item()\n",
    "        out[split] = losses.mean()\n",
    "    model.train()\n",
    "    return out"
   ]
  },
  {
   "cell_type": "code",
   "execution_count": 8,
   "id": "267a7fd6",
   "metadata": {},
   "outputs": [
    {
     "name": "stdout",
     "output_type": "stream",
     "text": [
      "['\\n', '¬', 'A', 'T', 'f', 'R', 'g', '5', 'i', '’', 'L', 'T', 'Y', 'v', '}', '(', '„', 'C', '2', '¬', 'y', 'a', '0', 'S', ' ', 'X', '‘', '6', '”', ',', '}', '(', 'R', 'g', '4', 'z', 'K', '6', '3', 'h', 'p', 'q', 'n', 'l', 'Z', '?', 'D', ' ', 'W', '\\n', '2', 'k', 'U', '7', '-', 'A', 'j', 'U', 't', '—', 'z', '4', '\\n', '1', 'z', 'D', 'G', '0', 'O', ':', 'M', 'c', 'M', ';', 'U', '•', 'v', '-', '2', 'i', 'v', 'C', 'm', 'N', 'j', 'a', 'C', '.', 'l', 'R', 'r', 't', 'c', '\\n', 'm', 'C', 'c', '}', '•', 'v', 'W', '\\n', 'L', '”', '„', 'd', '‘', '(', '8', 'F', 'm', 'o', 'U', '7', 'I', '-', 'L', 'a', '.', 'G', '0', '1', 'l', 'Z', '?', 'I', 'X', 'V', '(', 'H', 'u', 'h', '”', '4', 'd', 'D', '”', 'A', ';', 't', 'p', 'X', 'Z', 'W', 't', '©', '2', 'J', '&', 'Q', 'o', '8', 'A', '^', 'n', '3', ',', '9', 'k', '2', 'k', '/', 'j', 'G', ')', '5', '9', 'P', 'o', '¬', 'C', '7', ' ', '©', 'w', '5', 'f', 'j', 'n', 'B', 'v', 'i', ')', ';', 'M', '}', ';', '©', 'Y', '7', '-', ':', 'v', 'm', 'W', 't', '!', '3', '“', 'X', 'a', '0', ')', 'j', 'm', 'G', 'Y', '?', 'D', 'R', '¬', 'g', '(', 'i', 'B', '—', 'A', '©', 'V', 'S', 'w', 'G', 'q', 'V', '3', 'U', '„', '^', '1', 'p', '7', ' ', '‘', '9', 'n', '^', '_', '2', 't', 'e', \"'\", 'o', 'U', '“', 's', 'i', 'X', 'Y', ',', '0', 'E', 'h', ' ', 'u', 'I', ' ', 'X', 'X', 'a', '(', '.', 'p', 'Y', 'C', '\\n', '4', '”', '0', 'Y', '(', 'I', 'U', 'B', 'b', 'R', 'x', 'r', 'Q', 'N', 'm', 'W', ')', ';', '^', '¬', 'l', '„', '¬', 'I', 'r', '-', 'Q', ';', 'o', 'Q', ';', 'u', 'e', 'R', 'R', 'f', '2', '•', 'D', 'l', 'e', '¬', 'e', ':', '-', '¬', 'U', 'm', 'G', 'a', 'Q', ',', 'x', 'S', 'L', 'G', 'M', '•', '3', 'm', 'y', 'j', 'L', 'J', '2', 'Y', '8', 'U', 'F', 't', 'a', 'l', 'O', '8', 'F', 's', '-', 'Q', 'z', 'Y', 'V', '‘', 'd', '.', 'r', 'h', '9', ' ', \"'\", 'v', 'l', '’', 'O', 'k', '¬', 'Q', '1', '-', 'Q', 'a', '3', 'k', 'h', '„', '”', '&', 'Q', ',', '3', 'U', 'h', 'l', '\\n', '¬', 'H', '8', '3', '’', '0', 'o', '„', '3', 'e', 'C', 'q', 'e', 'V', '_', '©', 'Y', '9', 'I', '2', 'e', 'e', 'f', '—', 'V', '9', 'P', '0', '?', '\\n', 'C', '_', '9', '9', 'm', 'G', '_', 'U', '4', 'e', '„', 'b', '¬', '&', '”', 'N', 'J', ':', 'T', ')', '‘', 'X', 'P', 'F', '!', '?', '!', 'L', '©', '_', '—', 'z', 'g', 'Q', 'm', 'G', '8', 'R', '“', 'h', '„', 'E', '^', 'X', 'j', 'L', 'G', ' ', 'C', '^', '?', '•', 'w', 'j', '^', '”', '}', 'Z', '/', 'g', '„', 'D', 'm', '”', 'f', 'F', '5', \"'\", '—', 'O', '’', '0', 'I', 'P', 'a', \"'\", 'r', '&', 'j', 'w', '5', '“', 'r', 'q', 'y', 'C', 'L', 'c', 'e', 'f', 'j', ')', 'p']\n"
     ]
    }
   ],
   "source": [
    "class BigramLanguageModel(nn.Module):\n",
    "    def __init__(self, vocab_size):\n",
    "        super().__init__()\n",
    "        self.token_embedding_table = nn.Embedding(vocab_size, vocab_size)\n",
    "        \n",
    "    def forward(self, index, targets=None):\n",
    "        logits = self.token_embedding_table(index)\n",
    "        \n",
    "        \n",
    "        if targets is None:\n",
    "            loss = None\n",
    "        else:\n",
    "            B, T, C = logits.shape\n",
    "            logits = logits.view(B*T, C)\n",
    "            targets = targets.view(B*T)\n",
    "            loss = F.cross_entropy(logits, targets)\n",
    "        \n",
    "        return logits, loss\n",
    "    \n",
    "    def generate(self, index, max_new_tokens):\n",
    "        # index is (B, T) array of indices in the current context\n",
    "        for _ in range(max_new_tokens):\n",
    "            # get the predictions\n",
    "            logits, loss = self.forward(index)\n",
    "            # focus only on the last time step\n",
    "            logits = logits[:, -1, :] # becomes (B, C)\n",
    "            # apply softmax to get probabilities\n",
    "            probs = F.softmax(logits, dim=-1) # (B, C)\n",
    "            # sample from the distribution\n",
    "            index_next = torch.multinomial(probs, num_samples=1) # (B, 1)\n",
    "            # append sampled index to the running sequence\n",
    "            index = torch.cat((index, index_next), dim=1) # (B, T+1)\n",
    "        return index\n",
    "\n",
    "model = BigramLanguageModel(vocab_size)\n",
    "m = model.to(device)\n",
    "\n",
    "context = torch.zeros((1,1), dtype=torch.long, device=device)\n",
    "generated_chars = decode(m.generate(context, max_new_tokens=500)[0].tolist())\n",
    "print(generated_chars)"
   ]
  },
  {
   "cell_type": "code",
   "execution_count": 30,
   "id": "bdfcb578",
   "metadata": {},
   "outputs": [
    {
     "name": "stdout",
     "output_type": "stream",
     "text": [
      "step: 0, train loss: 2.578, val loss: 2.558\n",
      "step: 250, train loss: 2.584, val loss: 2.545\n",
      "step: 500, train loss: 2.568, val loss: 2.533\n",
      "step: 750, train loss: 2.563, val loss: 2.540\n",
      "2.2157702445983887\n"
     ]
    }
   ],
   "source": [
    "# create a PyTorch optimizer\n",
    "optimizer = torch.optim.AdamW(model.parameters(), lr=learning_rate)\n",
    "\n",
    "for iter in range(max_iters):\n",
    "    if iter % eval_iters == 0:\n",
    "        losses = estimate_loss()\n",
    "        print(f\"step: {iter}, train loss: {losses['train']:.3f}, val loss: {losses['val']:.3f}\")\n",
    "\n",
    "    # sample a batch of data\n",
    "    xb, yb = get_batch('train')\n",
    "\n",
    "    # evaluate the loss\n",
    "    logits, loss = model.forward(xb, yb)\n",
    "    optimizer.zero_grad(set_to_none=True)\n",
    "    loss.backward()\n",
    "    optimizer.step()\n",
    "print(loss.item())"
   ]
  },
  {
   "cell_type": "code",
   "execution_count": 12,
   "id": "182277d1",
   "metadata": {},
   "outputs": [
    {
     "name": "stdout",
     "output_type": "stream",
     "text": [
      "['\\n', 'R', 'U', 'g', 'i', 'm', 'G', 'N', 'T', 'b', 'R', '.', ';', 'W', '”', 'q', 'X', 'l', ':', 'F', 'H', 'T', 'S', 'J', '4', 'b', 'S', '—', ',', '9', 'J', '4', 'Z', 'K', 'i', 'r', '.', 'X', 'u', 'B', '¬', \"'\", 'z', '-', 'g', '4', 'A', 'm', 'N', '“', '_', '4', '?', 'Q', 'Q', 'A', '6', '/', 'R', 'g', 'Q', 'N', 'T', '/', '3', '_', 'D', '&', 'h', 'g', 'f', 'H', 'G', '&', '?', '0', 'w', 'G', 'N', 'q', 'D', 'F', 's', 'h', 'R', '/', 'Y', 'j', 'L', 'p', 'p', 'N', '„', '5', 'L', 'c', '2', 'k', 'g', 'W', '\\n', 'B', '—', 'z', 'F', 'S', 'W', 'D', 'n', ':', 'N', 'F', 'W', '(', 'i', 'x', 'r', 'e', 'g', 'f', '\\n', 'M', '6', '.', '“', '—', 'Z', '3', 'C', 'V', 'l', '‘', '}', 'z', '-', 'S', '•', 'D', 'F', 'm', ' ', '!', 'X', 'U', 'f', 'w', 'q', 'v', '!', '7', 'J', '¬', 'G', 'M', 'X', 'c', 'V', 'Y', '&', '‘', 'd', 'N', '(', 'n', 'T', '3', '4', 'A', 'Z', '!', '•', 'E', 'n', 'l', '3', 'C', 'h', 'J', '—', 'i', 'c', 'R', 'i', 'S', 'w', 'j', 'a', '!', ')', '9', '4', 'Q', '•', 'W', 'j', 'Q', 'Q', 't', '.', '}', 'd', '”', '(', 'H', 'F', 'K', '’', 'x', 'p', '/', 'G', 'M', 'g', 'n', '”', 'f', '2', 'F', '}', 'e', \"'\", '\\n', 'V', 'V', 'g', 'n', '&', 'c', 'k', '_', 'u', 'X', 'Y', 'b', 'i', ',', 'W', ';', 'o', 'E', 't', '}', 'D', '©', '_', ')', 'x', \"'\", 'Y', 'f', '(', ';', '2', '0', 'w', 'A', \"'\", '7', ' ', 'u', 'e', 'X', 'u', ')', 'j', 'U', '“', '”', 'Q', '&', '‘', 'U', 'Y', '‘', 'M', 'P', 'c', 'i', 'A', 'B', 'E', 'D', 'd', 's', 'l', 'm', 'n', 'l', 'P', '1', 'g', 'f', 'r', 'u', 'P', ',', 'M', 'H', 'e', '(', 'd', '”', 'A', 'V', 'F', 'x', 'H', '—', 'F', 'U', 'K', '6', 'd', 'J', '“', '7', '‘', '”', '„', 'd', 's', 'e', '_', 'n', 'X', 'w', '’', 'u', ')', 'C', '7', 'J', 'C', 'Y', '7', '—', ',', 'E', '.', 'U', 'm', 'z', 'b', 'o', '0', 'p', '4', '©', 'r', '3', 'm', 'W', '©', 'n', '3', 'E', 'G', '1', 'o', 'R', '5', 'A', '!', '‘', 'X', 'Z', 'n', 'c', '\\n', ';', ',', 'P', 'W', '“', 'q', 'O', '—', 'z', '-', '5', 'Y', 'i', 'L', 'v', '•', 'b', ' ', '1', '.', '}', 'v', 'H', 'm', 'N', 'j', '8', 'R', '¬', '\\n', '•', 'V', '&', '}', '-', 'c', 'u', 'e', '4', 'C', '“', 'e', 'h', 'B', 'E', ',', '&', ' ', 'm', 'G', 'e', 'V', '-', 'L', '!', '5', '?', 'H', 't', '4', 'T', 'e', 'o', '8', 'W', 'p', 'V', '—', \"'\", 'j', '2', 'n', 'l', '©', ',', '5', 'M', 'P', '”', '6', '”', 'A', 'U', 'Z', 'X', 'g', '¬', ';', 'o', '„', '„', 'e', 'C', '_', 'C', 'N', 'j', '/', 'F', 's', 'q', 'i', 'B', '^', 'd', '•', 'B', 'x', ',', '’', '©', 'U', 'q', 'X', '?', 'i', '(', 'J', 'I', '!', ')', ',', 'i', '&', 'a', 'O', 'P', '/', 'z', 'm', 'B', 'M']\n"
     ]
    }
   ],
   "source": [
    "context = torch.zeros((1,1), dtype=torch.long, device=device)\n",
    "generated_chars = decode(m.generate(context, max_new_tokens=500)[0].tolist())\n",
    "print(generated_chars)"
   ]
  },
  {
   "cell_type": "code",
   "execution_count": null,
   "id": "aa09ede7",
   "metadata": {},
   "outputs": [],
   "source": [
    "just checkin "
   ]
  },
  {
   "cell_type": "code",
   "execution_count": null,
   "id": "67046bc2",
   "metadata": {},
   "outputs": [],
   "source": []
  }
 ],
 "metadata": {
  "kernelspec": {
   "display_name": ".envllm",
   "language": "python",
   "name": "python3"
  },
  "language_info": {
   "codemirror_mode": {
    "name": "ipython",
    "version": 3
   },
   "file_extension": ".py",
   "mimetype": "text/x-python",
   "name": "python",
   "nbconvert_exporter": "python",
   "pygments_lexer": "ipython3",
   "version": "3.11.12"
  }
 },
 "nbformat": 4,
 "nbformat_minor": 5
}
