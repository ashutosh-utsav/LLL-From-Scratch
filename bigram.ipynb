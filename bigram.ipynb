{
 "cells": [
  {
   "cell_type": "markdown",
   "id": "f73d6cbf",
   "metadata": {},
   "source": [
    "# Building a bigram and using 100YearOfSolitute as dataset "
   ]
  },
  {
   "cell_type": "code",
   "execution_count": 1,
   "id": "fb6dfef2",
   "metadata": {},
   "outputs": [
    {
     "name": "stdout",
     "output_type": "stream",
     "text": [
      "cpu\n"
     ]
    },
    {
     "name": "stderr",
     "output_type": "stream",
     "text": [
      "/Users/ashutosh/Codes/Projects/LLM-From-Scratch/.envllm/lib/python3.11/site-packages/torch/_subclasses/functional_tensor.py:276: UserWarning: Failed to initialize NumPy: No module named 'numpy' (Triggered internally at /Users/runner/work/pytorch/pytorch/pytorch/torch/csrc/utils/tensor_numpy.cpp:81.)\n",
      "  cpu = _conversion_method_template(device=torch.device(\"cpu\"))\n"
     ]
    }
   ],
   "source": [
    "import torch\n",
    "import torch.nn as nn\n",
    "from torch.nn import functional as F\n",
    "device = 'cuda' if torch.cuda.is_available() else 'cpu'\n",
    "print(device)\n",
    "block_size = 8\n",
    "batch_size = 4\n",
    "max_iters = 1000\n",
    "# eval_interval = 2500\n",
    "learning_rate = 3e-4\n",
    "eval_iters = 250"
   ]
  },
  {
   "cell_type": "code",
   "execution_count": 8,
   "id": "44808758",
   "metadata": {},
   "outputs": [],
   "source": [
    "with open(\"100YearOfSolitude.txt\", 'r', encoding='utf-8') as f:\n",
    "    text = f.read()\n",
    "\n",
    "char = sorted(set(text))\n",
    "vocab_size = len(chars)\n",
    "\n",
    "# print(char)\n",
    "# print(vocab_size)"
   ]
  },
  {
   "cell_type": "code",
   "execution_count": 11,
   "id": "e19e5ec4",
   "metadata": {},
   "outputs": [],
   "source": [
    "string_to_int = {ch:i for i, ch in enumerate(char)}\n",
    "int_to_string = {i:ch for i, ch in enumerate(char)}\n",
    "\n",
    "encode = lambda s:[string_to_int[c] for c in s]\n",
    "decode = lambda l:[int_to_string[i] for i in l]\n",
    "\n",
    "data = torch.tensor(encode(text), dtype=torch.long)\n",
    "\n",
    "# print(data[:50])"
   ]
  },
  {
   "cell_type": "code",
   "execution_count": 12,
   "id": "4aaf9d62",
   "metadata": {},
   "outputs": [
    {
     "name": "stdout",
     "output_type": "stream",
     "text": [
      "inputs:\n",
      "tensor([[ 1, 42, 52, 65, 71, 52,  1, 42],\n",
      "        [70,  1, 63, 52, 71, 56, 69,  7],\n",
      "        [59, 60, 65, 62, 60, 65, 58,  1],\n",
      "        [57, 66, 69,  1, 59, 56, 69,  1]])\n",
      "targets:\n",
      "tensor([[42, 52, 65, 71, 52,  1, 42, 66],\n",
      "        [ 1, 63, 52, 71, 56, 69,  7,  1],\n",
      "        [60, 65, 62, 60, 65, 58,  1, 52],\n",
      "        [66, 69,  1, 59, 56, 69,  1, 60]])\n"
     ]
    }
   ],
   "source": [
    "n = int(0.8*len(data))\n",
    "train_data = data[:n]\n",
    "val_data = data[n:]\n",
    "\n",
    "\n",
    "def get_batch(split):\n",
    "    data = train_data if split == 'train' else val_data\n",
    "    ix = torch.randint(len(data) - block_size, (batch_size,))\n",
    "    x = torch.stack([data[i:i+block_size] for i in ix])\n",
    "    y = torch.stack([data[i+1:i+block_size+1] for i in ix])\n",
    "    x, y = x.to(device), y.to(device)\n",
    "    return x, y\n",
    "\n",
    "x, y = get_batch('train')\n",
    "print('inputs:')\n",
    "# print(x.shape)\n",
    "print(x)\n",
    "print('targets:')\n",
    "print(y)"
   ]
  },
  {
   "cell_type": "code",
   "execution_count": 13,
   "id": "0829a183",
   "metadata": {},
   "outputs": [],
   "source": [
    "@torch.no_grad()\n",
    "def estimate_loss():\n",
    "    out = {}\n",
    "    model.eval()\n",
    "    for split in ['train', 'val']:\n",
    "        losses = torch.zeros(eval_iters)\n",
    "        for k in range(eval_iters):\n",
    "            X, Y = get_batch(split)\n",
    "            logits, loss = model(X, Y)\n",
    "            losses[k] = loss.item()\n",
    "        out[split] = losses.mean()\n",
    "    model.train()\n",
    "    return out"
   ]
  },
  {
   "cell_type": "code",
   "execution_count": 14,
   "id": "267a7fd6",
   "metadata": {},
   "outputs": [
    {
     "name": "stdout",
     "output_type": "stream",
     "text": [
      "['\\n', 'd', '6', 'N', ':', 'O', '!', ':', 'I', '&', 'A', '5', '_', ';', 'a', 'R', 'O', 'Q', 'L', '_', 'D', '&', 'f', 'v', '1', '-', 'A', 'H', 'c', 'f', 'A', 'M', '6', '•', 'N', 'u', 'h', 'A', '©', '—', '.', 'C', ':', 'i', '4', 'J', 'y', 'd', 'b', '9', '“', '“', 'j', '4', 'B', '9', 'z', 'A', '¬', 'g', 's', '/', '3', '„', '6', '8', 'A', '“', 'I', 'W', 'o', '’', '-', '9', 'V', 't', 'T', '©', 'P', '5', 'h', '„', '(', '1', '\\n', 'F', '„', '/', 'E', 'x', 'h', ',', 'T', 'k', 'a', 't', 'w', ';', '!', 'u', '8', 'w', 'p', '0', '9', 'W', 'L', 'g', 'v', 'A', '”', 'E', 'l', 'Z', 'l', '^', 'v', 'f', 'D', 'R', '!', '8', '!', 'p', '7', 'n', 'C', 'F', '3', '¬', '“', 'w', '_', 'D', 'Z', '/', ',', 'P', 'I', 't', 'G', 'S', 'a', 'O', '(', 'p', '“', 'e', 'Q', '•', 'H', 'E', '-', 'a', 'k', \"'\", 'T', 'c', 'b', 'i', 'K', '-', 'G', '^', 'n', '2', 'b', 'l', \"'\", '/', 'j', '/', '\\n', ' ', 'M', 'w', 'M', '•', 'f', '/', '¬', 'W', '?', 'W', '3', 'M', 'O', 'U', 'c', ';', '5', 'x', 'c', 'f', '“', '0', 'v', 'S', '7', 'z', ',', '3', ')', 'E', 'l', \"'\", 'p', 's', '‘', 'k', '(', '\\n', 'O', 'b', 'g', '©', 'l', '’', 'm', '_', '©', '-', 'M', 'M', 'l', 'Z', 'R', '}', 'g', '/', 'F', 'Q', '‘', '-', '9', '¬', 'l', '©', '”', '’', 'E', '?', 'R', 'v', '/', 'O', 'b', 'U', 'e', 't', 'G', 'N', '6', '—', 'd', 'f', 'r', 'r', '’', '’', 'm', \"'\", 'F', 'R', '7', 'B', 'U', '©', '-', 'q', '2', '5', '©', 'Y', 'E', 'A', 'Z', '•', '!', '(', 'o', 'c', '„', ')', 'R', 'G', '.', 'W', 'P', ';', 'q', 'H', 'y', 'e', 'j', '}', '(', 'U', '(', 'L', 's', '“', 'q', '5', 'Z', 'v', 'g', '¬', 'j', '5', 'Z', 'W', 'T', 'i', '4', '¬', '0', '—', 'h', 'r', 'T', '(', 'D', 'M', '’', 'e', '2', 'E', 'U', 'c', 'X', 'V', '2', '^', '—', '-', '0', 'R', 'l', 'O', '„', ' ', 'W', '3', 'D', 'S', 'J', 'P', 'n', 'f', 'C', '!', 'E', 'l', 's', '2', 'U', 'C', ':', 'w', 'N', '’', '}', '_', ':', 'M', 's', '’', 'o', '“', '/', 'g', '“', '\\n', '¬', '1', 'r', '•', 'q', 'l', 'x', \"'\", 'S', 'B', 'Y', 'd', 'r', 'o', 'a', ':', 'y', 'e', '}', 'B', 'Y', 'F', '.', 'j', '1', '\\n', '5', 'x', 'x', 'c', 'Y', 'F', '_', 'N', '.', '9', 'Q', 'i', '-', 'j', 'r', '^', 'o', 'V', 'A', \"'\", 'p', 'H', 'M', 'g', 'Y', '—', 's', 'm', '¬', 'r', 'E', 'Z', 'C', 'y', '„', '9', '6', 'z', 'E', 'x', 'a', 'd', '_', '?', '6', '&', '_', 'I', '-', '1', '“', 'y', 'w', '&', 'Z', 'K', '•', '&', 'q', \"'\", 'B', 'm', 'w', '_', '_', ':', 'u', '-', '_', '}', 'e', '&', '/', 't', '•', 'k', '.', '0', '3', 'z', 'L', '”', 'B', 'g', '^', '‘', 'R', 'z', 'O', 'v', 'g', 'W', 'U', 's', '’', 'N', '.', '}', 'd', 'j', '’']\n"
     ]
    }
   ],
   "source": [
    "class BigramLanguageModel(nn.Module):\n",
    "    def __init__(self, vocab_size):\n",
    "        super().__init__()\n",
    "        self.token_embedding_table = nn.Embedding(vocab_size, vocab_size)\n",
    "        \n",
    "    def forward(self, index, targets=None):\n",
    "        logits = self.token_embedding_table(index)\n",
    "        \n",
    "        \n",
    "        if targets is None:\n",
    "            loss = None\n",
    "        else:\n",
    "            B, T, C = logits.shape\n",
    "            logits = logits.view(B*T, C)\n",
    "            targets = targets.view(B*T)\n",
    "            loss = F.cross_entropy(logits, targets)\n",
    "        \n",
    "        return logits, loss\n",
    "    \n",
    "    def generate(self, index, max_new_tokens):\n",
    "        # index is (B, T) array of indices in the current context\n",
    "        for _ in range(max_new_tokens):\n",
    "            # get the predictions\n",
    "            logits, loss = self.forward(index)\n",
    "            # focus only on the last time step\n",
    "            logits = logits[:, -1, :] # becomes (B, C)\n",
    "            # apply softmax to get probabilities\n",
    "            probs = F.softmax(logits, dim=-1) # (B, C)\n",
    "            # sample from the distribution\n",
    "            index_next = torch.multinomial(probs, num_samples=1) # (B, 1)\n",
    "            # append sampled index to the running sequence\n",
    "            index = torch.cat((index, index_next), dim=1) # (B, T+1)\n",
    "        return index\n",
    "\n",
    "model = BigramLanguageModel(vocab_size)\n",
    "m = model.to(device)\n",
    "\n",
    "context = torch.zeros((1,1), dtype=torch.long, device=device)\n",
    "generated_chars = decode(m.generate(context, max_new_tokens=500)[0].tolist())\n",
    "print(generated_chars)"
   ]
  },
  {
   "cell_type": "code",
   "execution_count": 15,
   "id": "bdfcb578",
   "metadata": {},
   "outputs": [
    {
     "name": "stdout",
     "output_type": "stream",
     "text": [
      "step: 0, train loss: 4.939, val loss: 4.932\n",
      "step: 250, train loss: 4.844, val loss: 4.878\n",
      "step: 500, train loss: 4.792, val loss: 4.795\n",
      "step: 750, train loss: 4.718, val loss: 4.722\n",
      "5.008190631866455\n"
     ]
    }
   ],
   "source": [
    "# create a PyTorch optimizer\n",
    "optimizer = torch.optim.AdamW(model.parameters(), lr=learning_rate)\n",
    "\n",
    "for iter in range(max_iters):\n",
    "    if iter % eval_iters == 0:\n",
    "        losses = estimate_loss()\n",
    "        print(f\"step: {iter}, train loss: {losses['train']:.3f}, val loss: {losses['val']:.3f}\")\n",
    "\n",
    "    # sample a batch of data\n",
    "    xb, yb = get_batch('train')\n",
    "\n",
    "    # evaluate the loss\n",
    "    logits, loss = model.forward(xb, yb)\n",
    "    optimizer.zero_grad(set_to_none=True)\n",
    "    loss.backward()\n",
    "    optimizer.step()\n",
    "print(loss.item())"
   ]
  },
  {
   "cell_type": "code",
   "execution_count": 16,
   "id": "182277d1",
   "metadata": {},
   "outputs": [
    {
     "name": "stdout",
     "output_type": "stream",
     "text": [
      "['\\n', 'i', '?', '’', 'c', 'o', 'B', '—', 'H', 'e', 'a', '”', 'N', 'o', '“', ' ', 'W', 'x', '’', 'o', '1', '6', 'U', '3', '„', '“', 'V', 'h', 'p', 'H', 'A', '0', '—', 'A', '“', 'v', 'S', '5', 'Z', 'W', '7', '”', 'w', '_', ')', 'U', 's', ',', '¬', '-', '1', '/', 'G', 'l', 't', '•', 'B', 'M', '0', 'D', 'F', 'V', 'f', 'H', 'P', '!', 'm', '1', '\\n', 'g', '8', 'q', 'i', 'n', 'q', 'i', '}', '7', 'y', 't', '3', 'K', 'J', '•', 'e', 'Y', 'j', 'q', 'y', 'p', 'c', '2', 'e', 'y', 'W', 'I', 'P', '6', 'i', '©', 'z', 'F', 'v', 'g', 'e', '!', 'c', 'f', 'F', 'N', '’', '•', 'p', '“', 'H', '^', 'h', 'G', 'p', '“', 'm', '\\n', '“', 'e', '\\n', 'S', '5', 'h', '„', 'B', 'V', 'X', '4', 'J', 'M', 'g', 'A', 'd', '}', 'a', 'b', 'l', '¬', 'c', '¬', 't', ')', 'G', 'I', 't', ';', '•', 'e', 't', 'e', '9', 'i', '—', '&', ';', 'g', 'N', '.', '9', '¬', 'k', 'l', 'G', 'c', 't', '•', '&', 'y', '7', 'J', 'S', 'M', '8', 'N', 'h', '^', 'C', '/', '(', 'v', '!', '3', 'g', 'y', 'P', '\\n', '¬', 'p', 'l', '’', 'P', 'z', 'c', '3', ' ', 'M', 'R', 'P', '.', 'd', 'w', ',', 'G', 'Q', 'n', '_', ':', '—', '-', '?', ',', 'c', 'f', 'K', 'f', ',', '2', ')', '“', 'e', 'c', '!', 'I', 'F', 'z', ' ', 'V', '}', 'F', '¬', 'r', '9', ',', '’', '9', '”', '—', '—', '4', 'J', 'c', 'A', 'O', '/', 'H', 'q', 'F', '.', 'Y', 'B', '5', 'x', 'c', '3', '.', 'Y', '4', 'A', '¬', '\\n', '9', 'b', '?', 'o', 'd', 'c', 'u', ':', '^', 'I', '\\n', 'B', 'M', 'x', \"'\", 'x', 'v', 'm', 'u', 't', ' ', '3', '¬', 'R', 'j', 'r', 'h', 'o', '“', 'y', 'Y', 'I', 'h', 'A', 'G', 'e', 'j', 'U', 'c', 't', 'p', 'k', '’', 'o', '1', 'E', '0', 'x', '”', '’', 'o', 'j', '©', 'T', 'L', 'X', 's', 'W', 'O', '7', 'U', 'j', '!', 'c', 'A', 'V', 'B', 'M', 'S', 'A', 'f', 'k', '&', 'X', 'I', 'T', '7', 'z', '!', 'I', '?', 's', '’', '_', 'y', '’', '^', 'K', '1', 'Q', 'i', '—', 'i', 'h', 'b', 'K', '”', 'J', '0', 'D', '-', '!', 'K', 'K', '4', 'J', 'n', 'w', 'N', '/', 'N', 'Y', 'E', ';', '5', '8', 'N', '’', 'P', '1', 'v', 'S', 'D', '1', 'S', '„', 'P', 'p', 'e', 't', 'H', 'X', ')', 'G', 'i', 'f', 'C', 'k', 'Y', 'R', '‘', 'R', 'j', '’', 'l', 'P', '/', 'V', 'h', 'r', 'B', 'M', 'Q', 'y', '„', 'y', 'w', 'l', 'x', '—', '2', '1', 'E', 'U', 'e', '&', 'l', ';', 'V', '‘', '’', 'G', 'Q', '&', 'f', 'n', '_', '}', 'Y', 'T', '7', ':', 'w', 'Q', '?', 'x', 'I', '7', 't', '•', 'U', 'B', 'n', '!', 'A', '“', \"'\", 'L', 'Z', '8', '‘', '^', '“', '2', '9', '¬', 'k', '(', '8', '4', 'R', 'j', '¬', 't', 'B', 's', ' ', '”', '/', 'E', 'U', 's', 'f', 'l', 'P', 'z', '!', 'c', '¬', '\\n', 'S', '5', '„', 'r', '©', '8']\n"
     ]
    }
   ],
   "source": [
    "context = torch.zeros((1,1), dtype=torch.long, device=device)\n",
    "generated_chars = decode(m.generate(context, max_new_tokens=500)[0].tolist())\n",
    "print(generated_chars)"
   ]
  },
  {
   "cell_type": "code",
   "execution_count": null,
   "id": "aa09ede7",
   "metadata": {},
   "outputs": [],
   "source": []
  }
 ],
 "metadata": {
  "kernelspec": {
   "display_name": ".envllm",
   "language": "python",
   "name": "python3"
  },
  "language_info": {
   "codemirror_mode": {
    "name": "ipython",
    "version": 3
   },
   "file_extension": ".py",
   "mimetype": "text/x-python",
   "name": "python",
   "nbconvert_exporter": "python",
   "pygments_lexer": "ipython3",
   "version": "3.11.12"
  }
 },
 "nbformat": 4,
 "nbformat_minor": 5
}
