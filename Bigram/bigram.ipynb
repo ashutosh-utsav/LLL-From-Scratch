{
 "cells": [
  {
   "cell_type": "markdown",
   "id": "f73d6cbf",
   "metadata": {},
   "source": [
    "# Building a bigram and using 100YearOfSolitute as dataset "
   ]
  },
  {
   "cell_type": "markdown",
   "id": "fcbf3e32",
   "metadata": {},
   "source": []
  }
 ],
 "metadata": {
  "language_info": {
   "name": "python"
  }
 },
 "nbformat": 4,
 "nbformat_minor": 5
}
